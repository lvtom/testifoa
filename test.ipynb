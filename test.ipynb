{
 "cells": [
  {
   "cell_type": "code",
   "execution_count": 12,
   "id": "d535d48d",
   "metadata": {},
   "outputs": [],
   "source": [
    "import os\n",
    "from dotenv import load_dotenv\n",
    "load_dotenv()\n",
    "\n",
    "API_key=os.getenv(\"api_key\")\n"
   ]
  },
  {
   "cell_type": "code",
   "execution_count": 13,
   "id": "788eb74d",
   "metadata": {},
   "outputs": [
    {
     "data": {
      "text/plain": [
       "<Response [200]>"
      ]
     },
     "execution_count": 13,
     "metadata": {},
     "output_type": "execute_result"
    }
   ],
   "source": [
    "import requests\n",
    "\n",
    "city_name= \"Campobasso\"\n",
    "url=f'https://api.openweathermap.org/data/2.5/weather?q={city_name}&appid={API_key}'\n",
    "result= requests.get(url)\n",
    "result"
   ]
  },
  {
   "cell_type": "code",
   "execution_count": 14,
   "id": "140e9c54",
   "metadata": {},
   "outputs": [
    {
     "data": {
      "text/plain": [
       "{'coord': {'lon': 14.5833, 'lat': 41.6333},\n",
       " 'weather': [{'id': 803,\n",
       "   'main': 'Clouds',\n",
       "   'description': 'broken clouds',\n",
       "   'icon': '04d'}],\n",
       " 'base': 'stations',\n",
       " 'main': {'temp': 291.85,\n",
       "  'feels_like': 291.58,\n",
       "  'temp_min': 291.85,\n",
       "  'temp_max': 291.85,\n",
       "  'pressure': 1013,\n",
       "  'humidity': 69,\n",
       "  'sea_level': 1013,\n",
       "  'grnd_level': 926},\n",
       " 'visibility': 5354,\n",
       " 'wind': {'speed': 2.2, 'deg': 64, 'gust': 1.51},\n",
       " 'clouds': {'all': 82},\n",
       " 'dt': 1747138094,\n",
       " 'sys': {'country': 'IT', 'sunrise': 1747107857, 'sunset': 1747159912},\n",
       " 'timezone': 7200,\n",
       " 'id': 3180990,\n",
       " 'name': 'Provincia di Campobasso',\n",
       " 'cod': 200}"
      ]
     },
     "execution_count": 14,
     "metadata": {},
     "output_type": "execute_result"
    }
   ],
   "source": [
    "json= result.json()\n",
    "json"
   ]
  },
  {
   "cell_type": "markdown",
   "id": "c58b91e6",
   "metadata": {},
   "source": [
    "#si può trasformare in dataframe pandas se è strutturato per farlo"
   ]
  },
  {
   "cell_type": "code",
   "execution_count": 16,
   "id": "bea45b92",
   "metadata": {},
   "outputs": [
    {
     "data": {
      "text/plain": [
       "2.2"
      ]
     },
     "execution_count": 16,
     "metadata": {},
     "output_type": "execute_result"
    }
   ],
   "source": [
    "json['wind']['speed']"
   ]
  }
 ],
 "metadata": {
  "kernelspec": {
   "display_name": "Python 3",
   "language": "python",
   "name": "python3"
  },
  "language_info": {
   "codemirror_mode": {
    "name": "ipython",
    "version": 3
   },
   "file_extension": ".py",
   "mimetype": "text/x-python",
   "name": "python",
   "nbconvert_exporter": "python",
   "pygments_lexer": "ipython3",
   "version": "3.11.9"
  }
 },
 "nbformat": 4,
 "nbformat_minor": 5
}
